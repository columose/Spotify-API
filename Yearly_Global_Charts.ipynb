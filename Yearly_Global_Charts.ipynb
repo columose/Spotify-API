{
  "nbformat": 4,
  "nbformat_minor": 0,
  "metadata": {
    "colab": {
      "provenance": [],
      "authorship_tag": "ABX9TyPML78s9DC82OH5w9mdOeOX",
      "include_colab_link": true
    },
    "kernelspec": {
      "name": "python3",
      "display_name": "Python 3"
    },
    "language_info": {
      "name": "python"
    }
  },
  "cells": [
    {
      "cell_type": "markdown",
      "metadata": {
        "id": "view-in-github",
        "colab_type": "text"
      },
      "source": [
        "<a href=\"https://colab.research.google.com/github/columose/Spotify-API/blob/main/Yearly_Global_Charts.ipynb\" target=\"_parent\"><img src=\"https://colab.research.google.com/assets/colab-badge.svg\" alt=\"Open In Colab\"/></a>"
      ]
    },
    {
      "cell_type": "code",
      "execution_count": null,
      "metadata": {
        "colab": {
          "base_uri": "https://localhost:8080/"
        },
        "id": "QFJk3PnO7vk7",
        "outputId": "bc4c838a-fd8d-4404-9e2a-493fd8ba93d7"
      },
      "outputs": [
        {
          "output_type": "stream",
          "name": "stdout",
          "text": [
            "Mounted at /content/drive\n"
          ]
        }
      ],
      "source": [
        "from google.colab import drive\n",
        "drive.mount(\"/content/drive\")"
      ]
    },
    {
      "cell_type": "code",
      "source": [
        "!pip install spotipy"
      ],
      "metadata": {
        "colab": {
          "base_uri": "https://localhost:8080/"
        },
        "id": "cdiDi6Mm8AaL",
        "outputId": "6eda9164-9563-4943-91f9-cfb0a225d04e"
      },
      "execution_count": null,
      "outputs": [
        {
          "output_type": "stream",
          "name": "stdout",
          "text": [
            "Collecting spotipy\n",
            "  Downloading spotipy-2.23.0-py3-none-any.whl (29 kB)\n",
            "Collecting redis>=3.5.3 (from spotipy)\n",
            "  Downloading redis-5.0.3-py3-none-any.whl (251 kB)\n",
            "\u001b[2K     \u001b[90m━━━━━━━━━━━━━━━━━━━━━━━━━━━━━━━━━━━━━━━━\u001b[0m \u001b[32m251.8/251.8 kB\u001b[0m \u001b[31m8.2 MB/s\u001b[0m eta \u001b[36m0:00:00\u001b[0m\n",
            "\u001b[?25hRequirement already satisfied: requests>=2.25.0 in /usr/local/lib/python3.10/dist-packages (from spotipy) (2.31.0)\n",
            "Requirement already satisfied: six>=1.15.0 in /usr/local/lib/python3.10/dist-packages (from spotipy) (1.16.0)\n",
            "Requirement already satisfied: urllib3>=1.26.0 in /usr/local/lib/python3.10/dist-packages (from spotipy) (2.0.7)\n",
            "Requirement already satisfied: async-timeout>=4.0.3 in /usr/local/lib/python3.10/dist-packages (from redis>=3.5.3->spotipy) (4.0.3)\n",
            "Requirement already satisfied: charset-normalizer<4,>=2 in /usr/local/lib/python3.10/dist-packages (from requests>=2.25.0->spotipy) (3.3.2)\n",
            "Requirement already satisfied: idna<4,>=2.5 in /usr/local/lib/python3.10/dist-packages (from requests>=2.25.0->spotipy) (3.6)\n",
            "Requirement already satisfied: certifi>=2017.4.17 in /usr/local/lib/python3.10/dist-packages (from requests>=2.25.0->spotipy) (2024.2.2)\n",
            "Installing collected packages: redis, spotipy\n",
            "Successfully installed redis-5.0.3 spotipy-2.23.0\n"
          ]
        }
      ]
    },
    {
      "cell_type": "code",
      "source": [
        "# Import libraries\n",
        "import pandas_gbq\n",
        "import time\n",
        "\n",
        "# Import user data for secret credentials\n",
        "from google.colab import userdata\n",
        "\n",
        "SPOTIPY_CLIENT_ID = userdata.get('CLIENT_ID')\n",
        "SPOTIPY_CLIENT_SECRET = userdata.get('CLIENT_SECRET')"
      ],
      "metadata": {
        "id": "Gr50LE3j8Gmu"
      },
      "execution_count": null,
      "outputs": []
    },
    {
      "cell_type": "code",
      "source": [
        "# Copy functions module to /content and import its functions\n",
        "!cp /content/drive/MyDrive/Colab\\ Notebooks/Spotify\\ API/functions.py /content\n",
        "from functions import playlist_to_df"
      ],
      "metadata": {
        "id": "JGgkisdb8Kbe"
      },
      "execution_count": null,
      "outputs": []
    },
    {
      "cell_type": "code",
      "source": [
        "## Create dictionary of 21st century playlist urls ##\n",
        "\n",
        "# Note that playlists up to and including 2019 are called ' top tracks'. This series ended in 2020, being replaced by 'top hits',\n",
        "# although there were no top hits playlists in 2021 and 2022\n",
        "hits_urls = {\n",
        "    2000:'https://open.spotify.com/playlist/37i9dQZF1DWUZv12GM5cFk?si=1bb8b56a0a1046d5',\n",
        "    2001:'https://open.spotify.com/playlist/37i9dQZF1DX9Ol4tZWPH6V?si=dce94edaba744675',\n",
        "    2002:'https://open.spotify.com/playlist/37i9dQZF1DX0P7PzzKwEKl?si=9aa5f5a7e7cb49f1',\n",
        "    2003:'https://open.spotify.com/playlist/37i9dQZF1DXaW8fzPh9b08?si=a7150ee119b2402c',\n",
        "    2004:'https://open.spotify.com/playlist/37i9dQZF1DWTWdbR13PQYH?si=a7e5602c6df84d9f',\n",
        "    2005:'https://open.spotify.com/playlist/37i9dQZF1DWWzQTBs5BHX9?si=be62edc9f43c4317',\n",
        "    2006:'https://open.spotify.com/playlist/37i9dQZF1DX1vSJnMeoy3V?si=fad1ddf17009402c',\n",
        "    2007:'https://open.spotify.com/playlist/37i9dQZF1DX3j9EYdzv2N9?si=5fa9355e4d4f4db5',\n",
        "    2008:'https://open.spotify.com/playlist/37i9dQZF1DWYuGZUE4XQXm?si=e6ede56153c14b53',\n",
        "    2009:'https://open.spotify.com/playlist/37i9dQZF1DX4UkKv8ED8jp?si=6e248580c23041b4',\n",
        "    2010:'https://open.spotify.com/playlist/37i9dQZF1DXc6IFF23C9jj?si=ab76377daedc4167',\n",
        "    2011:'https://open.spotify.com/playlist/37i9dQZF1DXcagnSNtrGuJ?si=d1a44cfd07b64fc7',\n",
        "    2012:'https://open.spotify.com/playlist/37i9dQZF1DX0yEZaMOXna3?si=ab20841816984866',\n",
        "    2013:'https://open.spotify.com/playlist/37i9dQZF1DX3Sp0P28SIer?si=178e9456a1b549e0',\n",
        "    2014:'https://open.spotify.com/playlist/37i9dQZF1DX0h0QnLkMBl4?si=2699d10c0f144381',\n",
        "    2015:'https://open.spotify.com/playlist/37i9dQZF1DX9ukdrXQLJGZ?si=e7356474720b4019',\n",
        "    2016:'https://open.spotify.com/playlist/37i9dQZF1DX8XZ6AUo9R4R?si=fad90c0dac094966',\n",
        "    2017:'https://open.spotify.com/playlist/37i9dQZF1DWTE7dVUebpUW?si=3da7fe446492409a',\n",
        "    2018:'https://open.spotify.com/playlist/37i9dQZF1DXe2bobNYDtW8?si=2d2db6b13e0b472f',\n",
        "    2019:'https://open.spotify.com/playlist/37i9dQZF1DWVRSukIED0e9?si=c35037d437584de3',\n",
        "    2020:'https://open.spotify.com/playlist/37i9dQZF1DX7Jl5KP2eZaS?si=eb19968d19264d10',\n",
        "    2023:'https://open.spotify.com/playlist/37i9dQZF1DX18jTM2l2fJY?si=1d057f1d68e54b78'\n",
        "}"
      ],
      "metadata": {
        "id": "22FV0Fex8Pls"
      },
      "execution_count": null,
      "outputs": []
    },
    {
      "cell_type": "code",
      "source": [
        "# Project and table id refer to those from GBQ\n",
        "project_id = 'spotify-28'\n",
        "table_id = 'Spotify.top_songs_21st_century'"
      ],
      "metadata": {
        "id": "UKsZ4Xog8V56"
      },
      "execution_count": null,
      "outputs": []
    },
    {
      "cell_type": "code",
      "source": [
        "# Convert playlist urls to pandas dataframes and save to BigQuery in a loop\n",
        "for key in hits_urls.keys():\n",
        "  url = hits_urls[key]\n",
        "\n",
        "  df = playlist_to_df(url, SPOTIPY_CLIENT_ID, SPOTIPY_CLIENT_SECRET)\n",
        "  df.insert(0, 'Year', key, allow_duplicates = True)\n",
        "\n",
        "  pandas_gbq.to_gbq(df, table_id, project_id=project_id, if_exists = 'append') # solely for the daily playlist\n",
        "\n",
        "  # Pause the loop for 30 seconds to ensure that spotify's rate limit isn't passed\n",
        "  time.sleep(30)\n"
      ],
      "metadata": {
        "colab": {
          "base_uri": "https://localhost:8080/"
        },
        "id": "SBAG1rjABJb6",
        "outputId": "8069c8c2-d295-49fd-b530-bf62b0bc7caa"
      },
      "execution_count": null,
      "outputs": [
        {
          "output_type": "stream",
          "name": "stderr",
          "text": [
            "100%|██████████| 1/1 [00:00<00:00, 6797.90it/s]\n",
            "100%|██████████| 1/1 [00:00<00:00, 7598.38it/s]\n",
            "100%|██████████| 1/1 [00:00<00:00, 803.20it/s]\n",
            "100%|██████████| 1/1 [00:00<00:00, 1524.09it/s]\n",
            "100%|██████████| 1/1 [00:00<00:00, 1510.37it/s]\n",
            "100%|██████████| 1/1 [00:00<00:00, 349.90it/s]\n",
            "100%|██████████| 1/1 [00:00<00:00, 7145.32it/s]\n",
            "100%|██████████| 1/1 [00:00<00:00, 2439.97it/s]\n",
            "100%|██████████| 1/1 [00:00<00:00, 1019.27it/s]\n",
            "100%|██████████| 1/1 [00:00<00:00, 5504.34it/s]\n",
            "100%|██████████| 1/1 [00:00<00:00, 753.29it/s]\n",
            "100%|██████████| 1/1 [00:00<00:00, 1503.87it/s]\n",
            "100%|██████████| 1/1 [00:00<00:00, 1619.42it/s]\n",
            "100%|██████████| 1/1 [00:00<00:00, 1507.12it/s]\n",
            "100%|██████████| 1/1 [00:00<00:00, 7796.10it/s]\n",
            "100%|██████████| 1/1 [00:00<00:00, 1515.28it/s]\n",
            "100%|██████████| 1/1 [00:00<00:00, 6096.37it/s]\n",
            "100%|██████████| 1/1 [00:00<00:00, 1515.83it/s]\n",
            "100%|██████████| 1/1 [00:00<00:00, 1340.03it/s]\n",
            "100%|██████████| 1/1 [00:00<00:00, 8192.00it/s]\n",
            "100%|██████████| 1/1 [00:00<00:00, 5203.85it/s]\n",
            "100%|██████████| 1/1 [00:00<00:00, 1702.23it/s]\n"
          ]
        }
      ]
    }
  ]
}